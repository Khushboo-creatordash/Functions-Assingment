{
  "cells": [
    {
      "cell_type": "markdown",
      "source": [
        "                                             **FUNCTIONS**\n",
        "\n",
        "Que-1  What is the difference between a function and a method in Python?\n",
        "\n",
        "Ans-1  In Python, the main difference between a function and a method is\n",
        "       related to how they are defined and how they are used:\n",
        "       *Location:- Functions can be defined globally or locally, while methods\n",
        "        are always defined inside a class.\n",
        "       *Binding:-  A function is not bound to an object, whereas a method is bound to the instance of the class or the class itself.\n",
        "       *Usage:-    Functions are called by their name, while methods are called on objects or classes.\n",
        "\n",
        "\n",
        "Que-2  Explain the concept of function arguments and parameters in Python.\n",
        "\n",
        "Ans-2  Parameters are part of the function definition\n",
        "       (what you write when defining the function).\n",
        "       Arguments are the actual values you provide when calling the function.\n",
        "\n",
        "Que-3  What are the different ways to define and call a function in Python?\n",
        "\n",
        "Ans-3  To define a function in Python, you use the keyword def, followed by the\n",
        "       function name and parentheses. To call a function, you use the function name followed by parentheses.\n",
        "\n",
        "Que-4  What is the purpose of the `return` statement in a Python function?\n",
        "\n",
        "Ans-4  The purpose of return statement ends the function and sends a value (or\n",
        "       None if no value is provided) back to the caller. It allows functions to produce output and pass that output back to the caller for further use.\n",
        "\n",
        "\n",
        "Que-5  What are iterators in Python and how do they differ from iterables?\n",
        "\n",
        "Ans-5  An Iterable is basically an object that any user can iterate over. An\n",
        "       Iterator is also an object that helps a user in iterating over another object (that is iterable).\n",
        "       Iterable: An object that supports the __iter__() method, meaning it can be used to generate an iterator. It doesn't directly iterate but provides a way to obtain an iterator.\n",
        "       Iterator: An object that implements both the __iter__() and __next__() methods. It is used to retrieve the elements one at a time from an iterable.\n",
        "\n",
        "Que-6   Explain the concept of generators in Python and how they are defined.\n",
        "\n",
        "Ans-6  In Python, generators are a type of iterable, like lists or tuples, but\n",
        "       with a key difference: they generate values one at a time and on demand, instead of storing them all in memory at once. This makes generators more memory-efficient for processing large datasets or streams of data.\n",
        "\n",
        "       There are two main ways to define a generator in Python:\n",
        "        * Using a generator function (using the yield keyword).\n",
        "        * Using a generator expression (a shorthand syntax similar to list\n",
        "          comprehensions).\n",
        "\n",
        "Que-7  What are the advantages of using generators over regular        \n",
        "       functions?\n",
        "\n",
        "Ans-7  The primary advantage of using generators over regular functions is  \n",
        "       their ability to perform \"lazy evaluation,\" meaning they generate values only when needed, which significantly improves memory efficiency by avoiding the need to store large datasets in memory all at once, making them particularly useful for handling large or infinite sequences of data. generators are extremely useful when working with large datasets, streaming data, or infinite sequences, and they provide several advantages over regular functions, particularly in terms of memory efficiency, performance, and code clarity.\n",
        "\n",
        "Que-8  What is a lambda function in Python and when is it typically used?\n",
        "\n",
        "Ans-8  A lambda function in Python is a small, anonymous function that is\n",
        "       defined using the lambda keyword. It allows you to create simple functions without the need for a formal def statement.\n",
        "\n",
        "       The syntax for defining a lambda function is:\n",
        "        **lambda arguments: expression**\n",
        "        arguments: A list of parameters (like in regular functions).\n",
        "        expression: A single expression that gets evaluated and returned by the function.\n",
        "        Lambda functions are also called anonymous functions because they are typically not bound to a name (though you can assign them to variables if needed).\n",
        "\n",
        "        Lambda functions are particularly useful in scenarios where you need a small, one-off function. They are often used in places where defining a full function using def would be overkill. Here are some common scenarios where lambda functions are typically used:\n",
        "\n",
        "1. In Higher-Order Functions (Functions that take other functions as arguments).\n",
        "2. Sorting Lists.\n",
        "3. In filter() for Filtering Items.\n",
        "4. In reduce() for Accumulation/Reduction (from functools).\n",
        "5. As Arguments in Event Handlers or Callbacks.\n",
        "\n",
        "\n",
        "Que-9  Explain the purpose and usage of the `map()` function in Python.\n",
        "\n",
        "Ans-9  The map() function in Python is used to apply a given function to each\n",
        "       item in an iterable (like a list, tuple, etc.) and return a map object (an iterator) that yields the results. The map() function is useful when you want to transform the items in an iterable without using an explicit loop.The map() function is a powerful tool for applying a function to each element in an iterable (or multiple iterables). It helps in making code more concise and declarative, especially when transforming data. It’s ideal for simple transformations or when you want to avoid the overhead of explicit loops.\n",
        "\n",
        "\n",
        "Que-10  What is the difference between `map()`, `reduce()`, and `filter()`\n",
        "        functions in Python?\n",
        "\n",
        "Ans-10   `map()`applies a function to each element in an array and returns an  \n",
        "        array of the results, 'Reduce()' applies a function to the array and returns a single output, 'Filter()' uses a boolean function to select certain elements from an array.\n",
        "\n",
        "QUE-11  Using pen & Paper write the internal mechanism for sum operation using  \n",
        "        reduce function on this given\n",
        "        list:[47,11,42,13];  \n",
        "\n",
        "Ans-11      \n",
        "\n",
        "\n",
        "\n",
        "\n",
        "\n",
        "\n",
        "                          **PRACTICAL QUESTIONS**\n",
        "\n",
        "\n",
        "                                 \n",
        "                \n",
        "\n",
        "\n",
        "\n",
        "       \n",
        "\n",
        "\n",
        "\n",
        "\n",
        "\n",
        "\n",
        "\n",
        "       \n",
        "\n",
        "\n",
        "\n",
        "           \n",
        "            \n",
        "           \n",
        "\n",
        "\n",
        "\n",
        "              \n",
        "      \n",
        "             \n",
        "             \n",
        "\n",
        "\n",
        "\n",
        "     \n",
        "\n",
        "         "
      ],
      "metadata": {
        "id": "yxWEwd-UluAs"
      },
      "id": "yxWEwd-UluAs"
    },
    {
      "cell_type": "code",
      "source": [
        "Que-1   Write a Python function that takes a list of numbers as input and\n",
        "        returns the sum of all even numbers in\n",
        "        the list.\n"
      ],
      "metadata": {
        "id": "Vvat75hA7-Fl"
      },
      "id": "Vvat75hA7-Fl",
      "execution_count": null,
      "outputs": []
    },
    {
      "cell_type": "code",
      "source": [
        " def sum_of_even_numbers(numbers):\n",
        "    # Use a list comprehension to filter out even numbers and sum them\n",
        "    return sum(num for num in numbers if num % 2 == 0)\n",
        "\n",
        "# Example usage:\n",
        "numbers = [1, 2, 3, 4, 5, 6, 7, 8]\n",
        "result = sum_of_even_numbers(numbers)\n",
        "print(\"Sum of even numbers:\", result)"
      ],
      "metadata": {
        "id": "Ta-BJV2k8D-x",
        "outputId": "7cbfa408-85bc-4a78-b86e-e7cce3e059c8",
        "colab": {
          "base_uri": "https://localhost:8080/"
        }
      },
      "id": "Ta-BJV2k8D-x",
      "execution_count": 26,
      "outputs": [
        {
          "output_type": "stream",
          "name": "stdout",
          "text": [
            "Sum of even numbers: 20\n"
          ]
        }
      ]
    },
    {
      "cell_type": "code",
      "source": [
        "Que-2   Create a Python function that accepts a string and returns the reverse of that string.\n",
        "\n",
        "\n"
      ],
      "metadata": {
        "id": "81pym44Q-chx"
      },
      "id": "81pym44Q-chx",
      "execution_count": null,
      "outputs": []
    },
    {
      "cell_type": "code",
      "source": [
        "result = reverse_string(\"Khushboo\")\n",
        "print(result)  # Output: \"Khushboo\"\n"
      ],
      "metadata": {
        "colab": {
          "base_uri": "https://localhost:8080/"
        },
        "id": "Mri5Nj8m-hok",
        "outputId": "31d85fb5-fda0-42ca-d7f1-565175b1aed1"
      },
      "id": "Mri5Nj8m-hok",
      "execution_count": 4,
      "outputs": [
        {
          "output_type": "stream",
          "name": "stdout",
          "text": [
            "oobhsuhK\n"
          ]
        }
      ]
    },
    {
      "cell_type": "code",
      "source": [
        "Que-3  Implement a Python function that takes a list of integers and returns a new list containing the squares of\n",
        "each number."
      ],
      "metadata": {
        "id": "_PvCTF88DORm"
      },
      "id": "_PvCTF88DORm",
      "execution_count": null,
      "outputs": []
    },
    {
      "cell_type": "code",
      "source": [
        "\n",
        "numbers = [1, 2, 3, 4, 5]\n",
        "squared_numbers = square_numbers(numbers)\n",
        "print(squared_numbers)"
      ],
      "metadata": {
        "colab": {
          "base_uri": "https://localhost:8080/"
        },
        "id": "6hnL6kcKAajF",
        "outputId": "f25b427b-6aa6-4b05-c40d-84b84fa9d37a"
      },
      "id": "6hnL6kcKAajF",
      "execution_count": 18,
      "outputs": [
        {
          "output_type": "stream",
          "name": "stdout",
          "text": [
            "[1, 4, 9, 16, 25]\n"
          ]
        }
      ]
    },
    {
      "cell_type": "code",
      "source": [
        "Que-4  Write a Python function that checks if a given number is prime or not from 1 to 200.\n"
      ],
      "metadata": {
        "id": "WPYnI3ElF_cs"
      },
      "id": "WPYnI3ElF_cs",
      "execution_count": null,
      "outputs": []
    },
    {
      "cell_type": "code",
      "source": [
        "numbers =  [1,2,3,4,5,6,7,8,9,10,11,12,13,14,15,16,17,18,19,20,21,31,26,41,51,61,91,71,88,81]\n",
        "\n",
        "def filter_prime_numbers(nums):\n",
        "    # Implement prime number filter logic\n",
        "    primes = []\n",
        "    for num in nums:\n",
        "      if num > 1:\n",
        "        for i in range(2, int(num**0.5) +1):\n",
        "          if (num % i) == 0:\n",
        "            break\n",
        "        else:\n",
        "          primes.append(num)\n",
        "    return primes\n",
        "\n",
        "prime_numbers = filter_prime_numbers(numbers)\n",
        "print(prime_numbers)"
      ],
      "metadata": {
        "colab": {
          "base_uri": "https://localhost:8080/"
        },
        "id": "_aE7i00qGEKs",
        "outputId": "f21eef07-cba7-4b7a-893b-382a9be11dcd"
      },
      "id": "_aE7i00qGEKs",
      "execution_count": 33,
      "outputs": [
        {
          "output_type": "stream",
          "name": "stdout",
          "text": [
            "[2, 3, 5, 7, 11, 13, 17, 19, 31, 41, 61, 71]\n"
          ]
        }
      ]
    },
    {
      "cell_type": "code",
      "source": [
        "Que-5   Create an iterator class in Python that generates the Fibonacci sequence up to a specified number of\n",
        "        terms ."
      ],
      "metadata": {
        "id": "yHUsAqc_JCwp"
      },
      "id": "yHUsAqc_JCwp",
      "execution_count": null,
      "outputs": []
    },
    {
      "cell_type": "code",
      "source": [
        "fib = FibonacciIterator(10)\n",
        "\n",
        "for number in fib:\n",
        "    print(number)\n"
      ],
      "metadata": {
        "colab": {
          "base_uri": "https://localhost:8080/"
        },
        "id": "ZQQmBk-3J33a",
        "outputId": "2e30ec4b-fc80-4273-b21b-9516c94adb04"
      },
      "id": "ZQQmBk-3J33a",
      "execution_count": 42,
      "outputs": [
        {
          "output_type": "stream",
          "name": "stdout",
          "text": [
            "1\n",
            "2\n",
            "3\n",
            "5\n",
            "8\n",
            "13\n",
            "21\n",
            "34\n",
            "55\n",
            "89\n"
          ]
        }
      ]
    },
    {
      "cell_type": "code",
      "source": [
        "Que-6  Write a generator function in Python that yields the powers of 2 up to a given exponent."
      ],
      "metadata": {
        "id": "Vn4vKbhjLQ0n"
      },
      "id": "Vn4vKbhjLQ0n",
      "execution_count": null,
      "outputs": []
    },
    {
      "cell_type": "code",
      "source": [
        "def powers_of_two(exponent):\n",
        "    for i in range(exponent + 1):\n",
        "        yield 2 ** i\n",
        "for power in powers_of_two(5):\n",
        "    print(power)\n"
      ],
      "metadata": {
        "colab": {
          "base_uri": "https://localhost:8080/"
        },
        "id": "nw8AvDFwMKI0",
        "outputId": "8be7130b-23c7-4c41-e497-d48b54703ec8"
      },
      "id": "nw8AvDFwMKI0",
      "execution_count": 50,
      "outputs": [
        {
          "output_type": "stream",
          "name": "stdout",
          "text": [
            "1\n",
            "2\n",
            "4\n",
            "8\n",
            "16\n",
            "32\n"
          ]
        }
      ]
    },
    {
      "cell_type": "code",
      "source": [
        "Que-7   Implement a generator function that reads a file line by line and yields each line as a string."
      ],
      "metadata": {
        "id": "anLhQTqoPdbN"
      },
      "id": "anLhQTqoPdbN",
      "execution_count": null,
      "outputs": []
    },
    {
      "cell_type": "code",
      "source": [
        "def read_file_lines(file_path):\n",
        "    with open(file_path, 'r') as file:\n",
        "        for line in file:\n",
        "            yield line.strip()"
      ],
      "metadata": {
        "id": "sOhn0q23S2kL"
      },
      "id": "sOhn0q23S2kL",
      "execution_count": 79,
      "outputs": []
    },
    {
      "cell_type": "code",
      "source": [
        "Que-8   Use a lambda function in Python to sort a list of tuples based on the second element of each tuple."
      ],
      "metadata": {
        "id": "4X5MftkVTDuk"
      },
      "id": "4X5MftkVTDuk",
      "execution_count": null,
      "outputs": []
    },
    {
      "cell_type": "code",
      "source": [
        "# Define a list of tuples\n",
        "tuples_list = [(1, 9), (3, 7), (2, 5), (4, 1)]\n",
        "\n",
        "# Use a lambda function as the key for sorting\n",
        "sorted_tuples = sorted(tuples_list, key=lambda x: x[1])\n",
        "\n",
        "# Print the sorted list\n",
        "print(sorted_tuples)"
      ],
      "metadata": {
        "colab": {
          "base_uri": "https://localhost:8080/"
        },
        "id": "GLaqUZ7sTIo7",
        "outputId": "483270ff-2f04-4172-dc7b-665df498ec3e"
      },
      "id": "GLaqUZ7sTIo7",
      "execution_count": 80,
      "outputs": [
        {
          "output_type": "stream",
          "name": "stdout",
          "text": [
            "[(4, 1), (2, 5), (3, 7), (1, 9)]\n"
          ]
        }
      ]
    },
    {
      "cell_type": "code",
      "source": [
        "Que-9   Write a Python program that uses `map()` to convert a list of temperatures from Celsius to Fahrenheit."
      ],
      "metadata": {
        "id": "7281Kz22Tblp"
      },
      "id": "7281Kz22Tblp",
      "execution_count": null,
      "outputs": []
    },
    {
      "cell_type": "code",
      "source": [
        "def celsius_to_fahrenheit(celsius):\n",
        "    return (celsius * 9/5) + 32\n",
        "\n",
        "# List of temperatures in Celsius\n",
        "celsius_temperatures = [0, 10, 20, 30, 40]\n",
        "\n",
        "# Use map() to convert Celsius to Fahrenheit\n",
        "fahrenheit_temperatures = list(map(celsius_to_fahrenheit, celsius_temperatures))\n",
        "\n",
        "print(\"Celsius Temperatures:\", celsius_temperatures)\n",
        "print(\"Fahrenheit Temperatures:\", fahrenheit_temperatures)\n"
      ],
      "metadata": {
        "colab": {
          "base_uri": "https://localhost:8080/"
        },
        "id": "YkSOaaTwTiCV",
        "outputId": "dfe9be71-4765-4ad7-9676-741eacc5589c"
      },
      "id": "YkSOaaTwTiCV",
      "execution_count": 81,
      "outputs": [
        {
          "output_type": "stream",
          "name": "stdout",
          "text": [
            "Celsius Temperatures: [0, 10, 20, 30, 40]\n",
            "Fahrenheit Temperatures: [32.0, 50.0, 68.0, 86.0, 104.0]\n"
          ]
        }
      ]
    },
    {
      "cell_type": "code",
      "source": [
        "Que-10  Create a Python program that uses `filter()` to remove all the vowels from a given string."
      ],
      "metadata": {
        "id": "e-fTdvOQTxb0"
      },
      "id": "e-fTdvOQTxb0",
      "execution_count": null,
      "outputs": []
    },
    {
      "cell_type": "code",
      "source": [
        "def remove_vowels(char):\n",
        "    vowels = 'aeiouAEIOU'\n",
        "    return char not in vowels\n",
        "\n",
        "# Input string\n",
        "input_string = \"Hello, World!\"\n",
        "\n",
        "# Use filter() to remove vowels\n",
        "filtered_string = ''.join(filter(remove_vowels, input_string))\n",
        "\n",
        "print(\"Original String:\", input_string)\n",
        "print(\"String after removing vowels:\", filtered_string)"
      ],
      "metadata": {
        "colab": {
          "base_uri": "https://localhost:8080/"
        },
        "id": "iB1Tu1S-T3Yr",
        "outputId": "4443b408-742c-4d4b-ac3f-78bfcabcdfaa"
      },
      "id": "iB1Tu1S-T3Yr",
      "execution_count": 82,
      "outputs": [
        {
          "output_type": "stream",
          "name": "stdout",
          "text": [
            "Original String: Hello, World!\n",
            "String after removing vowels: Hll, Wrld!\n"
          ]
        }
      ]
    },
    {
      "cell_type": "code",
      "source": [
        "Que-11   Imagine an accounting routine used in a book shop. It works on a list  with sublists, which look like this:\n",
        "         order Number          Book Title and Author                  Quantity           Price per Item\n",
        "         34587                  Learning Python, Mark Lutz             4                   40.95\n",
        "         98762                  Programming Python, Mark Lutz          5                   56.80\n",
        "         77226                  Head First Python, Paul Barry          3                   32.95\n",
        "         88112                  Einführung in Python3, Bernd Klein     3                   24.9\n",
        "\n",
        " Write a Python program, which returns a list with 2-tuples. Each tuple consists of the order number and the\n",
        "product of the price per item and the quantity. The product should be increased by 10,- € if the value of the\n",
        "order is smaller than 100,00 €.\n",
        "\n",
        "Write a Python program using lambda and map.\n",
        "\n",
        ""
      ],
      "metadata": {
        "id": "gqRGjz80UOJc"
      },
      "id": "gqRGjz80UOJc",
      "execution_count": null,
      "outputs": []
    },
    {
      "cell_type": "code",
      "source": [
        "# List of orders with each sublist containing: [order number, book title and author, quantity, price per item]\n",
        "orders = [\n",
        "    [34587, \"Learning Python, Mark Lutz\", 4, 40.95],\n",
        "    [98762, \"Programming Python, Mark Lutz\", 5, 56.80],\n",
        "    [77226, \"Head First Python, Paul Barry\", 3, 32.95],\n",
        "    [88112, \"Einführung in Python3, Bernd Klein\", 3, 24.9]\n",
        "]\n",
        "\n",
        "# Using map and lambda to calculate the required output\n",
        "result = list(map(lambda order: (\n",
        "    order[0],  # Order number\n",
        "    (order[2] * order[3]) + 10 if order[2] * order[3] < 100 else order[2] * order[3]  # Quantity * Price + 10 if < 100\n",
        "), orders))\n",
        "\n",
        "# Print the result\n",
        "print(result)\n"
      ],
      "metadata": {
        "colab": {
          "base_uri": "https://localhost:8080/"
        },
        "id": "DRJwOa-zXlNa",
        "outputId": "36d4d6db-6d8e-45c6-ab8a-90aff3099bd1"
      },
      "id": "DRJwOa-zXlNa",
      "execution_count": 83,
      "outputs": [
        {
          "output_type": "stream",
          "name": "stdout",
          "text": [
            "[(34587, 163.8), (98762, 284.0), (77226, 108.85000000000001), (88112, 84.69999999999999)]\n"
          ]
        }
      ]
    }
  ],
  "metadata": {
    "kernelspec": {
      "display_name": "Python 3",
      "name": "python3"
    },
    "language_info": {
      "name": "python"
    },
    "required_libs": [],
    "colab": {
      "provenance": []
    }
  },
  "nbformat": 4,
  "nbformat_minor": 5
}